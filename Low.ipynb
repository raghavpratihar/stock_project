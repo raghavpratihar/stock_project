{
 "cells": [
  {
   "cell_type": "code",
   "execution_count": null,
   "metadata": {},
   "outputs": [],
   "source": [
    "import pandas as pd\n",
    "import requests\n",
    "import json\n",
    "from tqdm import tqdm\n",
    "import time\n",
    "\n",
    "from selenium import webdriver\n",
    "from selenium.webdriver.common.by import By\n",
    "from webdriver_manager.chrome import ChromeDriverManager\n",
    "from selenium.webdriver.chrome.options import Options\n",
    "from selenium_stealth import stealth\n",
    "# import undetected_chromedriver as uc\n",
    "\n",
    "\n",
    "chrome_options = Options()\n",
    "# chrome_options.add_argument(\"--headless\")  # Enable headless mode\n",
    "chrome_options.add_argument(\"--no-sandbox\")  # Required for some environments\n",
    "chrome_options.add_argument(\"--disable-dev-shm-usage\")  # Helps in Docker environments\n",
    "\n",
    "from bs4 import BeautifulSoup\n",
    "\n",
    "driver = webdriver.Chrome(options=chrome_options)\n",
    "stealth(driver,\n",
    "        # user_agent='your-custom-user-agent',  # Set custom user agent\n",
    "        languages=[\"en-US\", \"en\"],  # Set languages\n",
    "        vendor=\"Mozilla\",  # Set vendor\n",
    "        platform=\"Win32\",  # Set platform\n",
    "        webgl_vendor=\"Mozilla\",  # Set WebGL vendor\n",
    "        renderer=\"Mozilla\",  # Set WebGL renderer\n",
    "        fix_hairline=True)  # Fix hairline issue in headless mode\n",
    "driver.get('https://www.nseindia.com/market-data/52-week-low-equity-market')\n",
    "cookies = driver.get_cookies()\n",
    "time.sleep(2)\n",
    "print(len(cookies))"
   ]
  },
  {
   "cell_type": "code",
   "execution_count": 75,
   "metadata": {},
   "outputs": [],
   "source": [
    "# cookies = []\n",
    "# while(len(cookies)<10):\n",
    "#     driver.get('https://www.nseindia.com/market-data/52-week-low-equity-market')\n",
    "#     time.sleep(2)\n",
    "#     cookies = driver.get_cookies()\n",
    "#     print(len(cookies))"
   ]
  },
  {
   "cell_type": "code",
   "execution_count": 76,
   "metadata": {},
   "outputs": [],
   "source": [
    "cookie = \"\"\n",
    "for item in driver.get_cookies():\n",
    "    cookie += item['name'] + \"=\" + item['value'] + \"; \""
   ]
  },
  {
   "cell_type": "code",
   "execution_count": 77,
   "metadata": {},
   "outputs": [],
   "source": [
    "# specific_cookie = driver.get_cookie('_ga') \n",
    "# _ga = specific_cookie['value']\n",
    "\n",
    "# specific_cookie = driver.get_cookie('nsit')\n",
    "# nsit = specific_cookie['value']\n",
    "\n",
    "# specific_cookie = driver.get_cookie('ak_bmsc') \n",
    "# ak_bmsc = specific_cookie['value']\n",
    "\n",
    "# specific_cookie = driver.get_cookie('AKA_A2') \n",
    "# AKA_A2 = specific_cookie['value']\n",
    "\n",
    "# specific_cookie = driver.get_cookie('nseappid') \n",
    "# nseappid = specific_cookie['value']\n",
    "\n",
    "# specific_cookie = driver.get_cookie('bm_sz') \n",
    "# bm_sz = specific_cookie['value']\n",
    "\n",
    "# specific_cookie = driver.get_cookie('RT') \n",
    "# RT = specific_cookie['value']\n",
    "\n",
    "\n",
    "# specific_cookie = driver.get_cookie('_ga_87M7PJ3R97') \n",
    "# _ga_87M7PJ3R97 = specific_cookie['value']\n",
    "\n",
    "\n",
    "# # specific_cookie = driver.get_cookie('_ga_WM2NSQKJEK') \n",
    "# # _ga_WM2NSQKJEK = specific_cookie['value']\n",
    "\n",
    "\n",
    "# specific_cookie = driver.get_cookie('_abck') \n",
    "# _abck = specific_cookie['value']\n",
    "\n",
    "# bm_sv =  driver.get_cookie('bm_sv')['value']\n",
    "\n",
    "# cookie = f'defaultLang=en; _ga={_ga}; nsit={nsit}; AKA_A2=A; ak_bmsc={ak_bmsc}; nseQuoteSymbols=[{{\"symbol\":\"TATASTEEL\",\"identifier\":null,\"type\":\"equity\"}}]; nseappid={nseappid}; bm_sz={bm_sz}; RT={RT}; _ga_87M7PJ3R97={_ga_87M7PJ3R97}; _ga_WM2NSQKJEK={_ga_WM2NSQKJEK}; _abck={_abck}; bm_sv={bm_sv}'"
   ]
  },
  {
   "cell_type": "code",
   "execution_count": 78,
   "metadata": {},
   "outputs": [],
   "source": [
    "\n",
    "url = \"https://www.nseindia.com/api/live-analysis-data-52weeklowstock\"\n",
    "\n",
    "payload = {}\n",
    "headers = {\n",
    "  'accept': '*/*',\n",
    "  'accept-language': 'en-US,en;q=0.9',\n",
    "  'cookie':cookie,\n",
    "  'priority': 'u=1, i',\n",
    "  'referer': 'https://www.nseindia.com/market-data/52-week-low-equity-market',\n",
    "  'sec-fetch-dest': 'empty',\n",
    "  'sec-fetch-mode': 'cors',\n",
    "  'sec-fetch-site': 'same-origin',\n",
    "  'user-agent': 'your-custom-user-agent'\n",
    "}\n",
    "\n",
    "response = requests.request(\"GET\", url, headers=headers, data=payload)\n",
    "data = json.loads(response.text)['data']\n",
    "row = []\n",
    "for indx in range(1,len(data)):\n",
    "  symbol = data[indx]['symbol']\n",
    "  price = data[indx]['ltp']\n",
    "  name = data[indx]['comapnyName']\n",
    "  row.append([symbol,price,name])\n",
    "\n",
    "df = pd.DataFrame(row , columns=['symbol','price','name'])\n",
    "\n"
   ]
  },
  {
   "cell_type": "code",
   "execution_count": 79,
   "metadata": {},
   "outputs": [],
   "source": [
    "symbol_to_name_dict = df.set_index('symbol')['name'].to_dict()"
   ]
  },
  {
   "cell_type": "code",
   "execution_count": 80,
   "metadata": {},
   "outputs": [],
   "source": [
    "\n",
    "\n",
    "def get_reports(symbol , name):\n",
    "  url = f\"https://www.nseindia.com/api/corporates-financial-results?index=equities&symbol={symbol}&issuer={name.replace(' ','%20')}&period=Annual\"\n",
    "\n",
    "  payload = {}\n",
    "  headers = {\n",
    "    'accept': '*/*',\n",
    "    'accept-language': 'en-GB,en-US;q=0.9,en;q=0.8',\n",
    "    'cookie': cookie,\n",
    "    'priority': 'u=1, i',\n",
    "    'referer': 'https://www.nseindia.com/companies-listing/corporate-filings-financial-results?symbol=20MICRONS&tabIndex=equity',\n",
    "    'sec-ch-ua': '\"Chromium\";v=\"128\", \"Not;A=Brand\";v=\"24\", \"Opera\";v=\"114\"',\n",
    "    'sec-ch-ua-mobile': '?0',\n",
    "    'sec-ch-ua-platform': '\"macOS\"',\n",
    "    'sec-fetch-dest': 'empty',\n",
    "    'sec-fetch-mode': 'cors',\n",
    "    'sec-fetch-site': 'same-origin',\n",
    "    'user-agent': 'Mozilla/5.0 (Macintosh; Intel Mac OS X 10_15_7) AppleWebKit/537.36 (KHTML, like Gecko) Chrome/128.0.0.0 Safari/537.36 OPR/114.0.0.0'\n",
    "  }\n",
    "\n",
    "  response = requests.request(\"GET\", url, headers=headers, data=payload)\n",
    "  global report_df\n",
    "  data = json.loads(response.text)\n",
    "  # Create a new row to append\n",
    "  new_row = pd.DataFrame([[symbol, name, data]], columns=['symbol','name','data'])\n",
    "\n",
    "  # Concatenate the new row to the existing DataFrame\n",
    "  report_df = pd.concat([report_df, new_row], ignore_index=True)"
   ]
  },
  {
   "cell_type": "code",
   "execution_count": null,
   "metadata": {},
   "outputs": [],
   "source": [
    "report_df = pd.DataFrame()\n",
    "# Loop with tqdm to show progress\n",
    "for key, value in tqdm(symbol_to_name_dict.items(), desc=\"Processing symbols\"):\n",
    "    get_reports(key, value)"
   ]
  },
  {
   "cell_type": "code",
   "execution_count": null,
   "metadata": {},
   "outputs": [],
   "source": [
    "report_df"
   ]
  },
  {
   "cell_type": "code",
   "execution_count": 83,
   "metadata": {},
   "outputs": [],
   "source": [
    "report_df['found'] = ''\n",
    "report_df['found'] = report_df.apply(lambda x: False if len(x['data'])==0 else True,axis=1)"
   ]
  },
  {
   "cell_type": "code",
   "execution_count": null,
   "metadata": {},
   "outputs": [],
   "source": [
    "report_df['eps'] = ''\n",
    "Non_Consolidated = pd.DataFrame()\n",
    "for i in tqdm(range(report_df.shape[0])):\n",
    "    if (report_df['found'][i]):\n",
    "        temp = pd.DataFrame(report_df['data'][i])\n",
    "        temp = temp[temp['consolidated']!='Non-Consolidated']\n",
    "        urls = [item for item in temp['xbrl'].to_list() if item.rsplit('/',1)[-1]!='-']\n",
    "        eps = []\n",
    "        for link in urls:\n",
    "            driver.get(link)\n",
    "            \n",
    "            # Parse the XML with BeautifulSoup\n",
    "            soup = BeautifulSoup(driver.page_source, 'xml')\n",
    "\n",
    "            # Define the namespace prefix\n",
    "            namespace = {'in-bse-fin': 'http://example.com/ns'}\n",
    "\n",
    "            # Find the tag with contextRef=\"FourD\" by using the full qualified name and contextRef attribute\n",
    "            tag = soup.find('in-bse-fin:BasicEarningsLossPerShareFromContinuingAndDiscontinuedOperations',\n",
    "                            attrs={'contextRef': 'FourD'})\n",
    "\n",
    "\n",
    "            # Extract the value of the tag if found\n",
    "            value = tag.text.strip() if tag else None\n",
    "            \n",
    "            if value == None:\n",
    "                tag = soup.find('in-bse-fin:DilutedEarningsPerShareAfterExtraordinaryItems',\n",
    "                            attrs={'contextRef': 'FourD'})\n",
    "                value = tag.text.strip() if tag else None\n",
    "                \n",
    "\n",
    "            eps.append(value)\n",
    "        \n",
    "        report_df.at[i,'eps'] = eps\n",
    "        \n",
    "        \n",
    "        temp = pd.DataFrame(report_df['data'][i])\n",
    "        temp = temp[temp['consolidated']=='Non-Consolidated']\n",
    "        urls = [item for item in temp['xbrl'].to_list() if item.rsplit('/',1)[-1]!='-']\n",
    "        eps = []\n",
    "        for link in urls:\n",
    "            driver.get(link)\n",
    "            \n",
    "            # Parse the XML with BeautifulSoup\n",
    "            soup = BeautifulSoup(driver.page_source, 'xml')\n",
    "\n",
    "            # Define the namespace prefix\n",
    "            namespace = {'in-bse-fin': 'http://example.com/ns'}\n",
    "\n",
    "            # Find the tag with contextRef=\"FourD\" by using the full qualified name and contextRef attribute\n",
    "            tag = soup.find('in-bse-fin:BasicEarningsLossPerShareFromContinuingAndDiscontinuedOperations',\n",
    "                            attrs={'contextRef': 'FourD'})\n",
    "\n",
    "\n",
    "            # Extract the value of the tag if found\n",
    "            value = tag.text.strip() if tag else None\n",
    "            \n",
    "            if value == None:\n",
    "                tag = soup.find('in-bse-fin:DilutedEarningsPerShareAfterExtraordinaryItems',\n",
    "                            attrs={'contextRef': 'FourD'})\n",
    "                value = tag.text.strip() if tag else None\n",
    "                \n",
    "\n",
    "            eps.append(value)\n",
    "            \n",
    "        copy_df = report_df.loc[i:i+1].copy(deep=True)\n",
    "            \n",
    "        Non_Consolidated = pd.concat([Non_Consolidated,copy_df],ignore_index=True)\n",
    "        Non_Consolidated.at[Non_Consolidated.shape[0]-1,'eps'] = eps        \n",
    "        \n",
    "        \n",
    "        \n",
    "    "
   ]
  },
  {
   "cell_type": "code",
   "execution_count": 85,
   "metadata": {},
   "outputs": [],
   "source": [
    "# import httpx\n",
    "\n",
    "# url = \"https://nsearchives.nseindia.com/corporate/xbrl/INDAS_118115_1365654_30012025020837.xml\"\n",
    "\n",
    "# headers = {\n",
    "#     \"User-Agent\": \"Mozilla/5.0 (Windows NT 10.0; Win64; x64)\",\n",
    "#     \"Referer\": \"https://www.nseindia.com/\",\n",
    "# }\n",
    "\n",
    "# cookies = cookie\n",
    "\n",
    "# with httpx.Client() as client:\n",
    "#     response = client.get(url, headers=headers)\n",
    "\n",
    "#     if response.status_code == 200:\n",
    "#         with open(\"downloaded_file.xml\", \"wb\") as file:\n",
    "#             file.write(response.content)\n",
    "#         print(\"File downloaded successfully!\")\n",
    "#     else:\n",
    "#         print(f\"Failed to download. Status Code: {response.status_code}\")"
   ]
  },
  {
   "cell_type": "code",
   "execution_count": 86,
   "metadata": {},
   "outputs": [],
   "source": [
    "report_df['consolidated'] = 'yes'\n",
    "Non_Consolidated['consolidated'] = 'no'\n",
    "report_df = pd.concat([report_df,Non_Consolidated],ignore_index=True)\n",
    "report_df.sort_values(by='symbol',inplace=True)\n",
    "report_df.reset_index(drop=True,inplace=True)\n"
   ]
  },
  {
   "cell_type": "code",
   "execution_count": 87,
   "metadata": {},
   "outputs": [],
   "source": [
    "report_df.to_excel('LOW.xlsx',index=False)"
   ]
  },
  {
   "cell_type": "code",
   "execution_count": 88,
   "metadata": {},
   "outputs": [],
   "source": [
    "driver.quit()"
   ]
  },
  {
   "cell_type": "code",
   "execution_count": null,
   "metadata": {},
   "outputs": [],
   "source": [
    "report_df"
   ]
  },
  {
   "cell_type": "code",
   "execution_count": 90,
   "metadata": {},
   "outputs": [],
   "source": [
    "report_df['avg_eps'] = report_df.apply(\n",
    "    lambda x: sum(\n",
    "        [float(item) for item in x['eps'] if item is not None and isinstance(item, (int, float,str))]\n",
    "    ) / len(\n",
    "        [float(item) for item in x['eps'] if item is not None and isinstance(item, (int, float ,str))]\n",
    "    ) if len([float(item) for item in x['eps'] if item is not None and isinstance(item, (int, float ,str))]) > 0 else \"\",\n",
    "    axis=1\n",
    ")"
   ]
  },
  {
   "cell_type": "code",
   "execution_count": 91,
   "metadata": {},
   "outputs": [],
   "source": [
    "report_df['total_eps'] = report_df.apply(\n",
    "    lambda x: len([float(item) for item in x['eps'] if item is not None and isinstance(item, (int, float, str))]),\n",
    "    axis=1\n",
    ")"
   ]
  },
  {
   "cell_type": "code",
   "execution_count": 93,
   "metadata": {},
   "outputs": [],
   "source": [
    "report_df['3Yr_avg_eps'] = report_df.apply(\n",
    "    lambda x: sum(\n",
    "        [float(item) for item in x['eps'] if item is not None and isinstance(item, (int, float,str))][:3]\n",
    "    ) / 3 if len([float(item) for item in x['eps'] if item is not None and isinstance(item, (int, float,str))]) >= 3 else \"\", \n",
    "    axis=1\n",
    ")"
   ]
  },
  {
   "cell_type": "code",
   "execution_count": 95,
   "metadata": {},
   "outputs": [],
   "source": [
    "seven_and_above = report_df[report_df['total_eps']>=7].copy(deep=True)\n",
    "three = report_df[(report_df['3Yr_avg_eps']!=\"\")].copy(deep=True)\n",
    "three = three[(three['3Yr_avg_eps']>0)].copy(deep=True)\n"
   ]
  },
  {
   "cell_type": "code",
   "execution_count": 96,
   "metadata": {},
   "outputs": [],
   "source": [
    "three['fifftee_times']  = \"\"\n",
    "three['fifftee_times'] = three.apply(lambda x: 15*x['3Yr_avg_eps'],axis=1)"
   ]
  },
  {
   "cell_type": "code",
   "execution_count": 97,
   "metadata": {},
   "outputs": [],
   "source": [
    "def get_price(symbol):\n",
    "    url = f\"https://www.nseindia.com/api/quote-equity?symbol={symbol}\"\n",
    "\n",
    "    payload = {}\n",
    "    headers = {\n",
    "    'accept': '*/*',\n",
    "    'accept-language': 'en-GB,en-US;q=0.9,en;q=0.8',\n",
    "    'cookie': cookie,\n",
    "    'priority': 'u=1, i',\n",
    "    'referer': 'https://www.nseindia.com/get-quotes/equity?symbol=RELIANCE',\n",
    "    'sec-ch-ua': '\"Chromium\";v=\"130\", \"Google Chrome\";v=\"130\", \"Not?A_Brand\";v=\"99\"',\n",
    "    'sec-ch-ua-mobile': '?0',\n",
    "    'sec-ch-ua-platform': '\"macOS\"',\n",
    "    'sec-fetch-dest': 'empty',\n",
    "    'sec-fetch-mode': 'cors',\n",
    "    'sec-fetch-site': 'same-origin',\n",
    "    'user-agent': 'Mozilla/5.0 (Macintosh; Intel Mac OS X 10_15_7) AppleWebKit/537.36 (KHTML, like Gecko) Chrome/130.0.0.0 Safari/537.36'\n",
    "    }\n",
    "\n",
    "    response = requests.request(\"GET\", url, headers=headers, data=payload)\n",
    "\n",
    "    return json.loads(response.text)['priceInfo']['lastPrice']\n"
   ]
  },
  {
   "cell_type": "code",
   "execution_count": 98,
   "metadata": {},
   "outputs": [],
   "source": [
    "driver.quit()"
   ]
  },
  {
   "cell_type": "code",
   "execution_count": 99,
   "metadata": {},
   "outputs": [],
   "source": [
    "three.reset_index(drop=True,inplace=True)\n",
    "three['cmp'] = \"\""
   ]
  },
  {
   "cell_type": "code",
   "execution_count": null,
   "metadata": {},
   "outputs": [],
   "source": [
    "for i in tqdm(range(three.shape[0])):\n",
    "    three.loc[i,'cmp'] = get_price(three.loc[i,'symbol'])"
   ]
  },
  {
   "cell_type": "code",
   "execution_count": 101,
   "metadata": {},
   "outputs": [],
   "source": [
    "three['cmp'] = three['cmp'].apply(lambda x: float(x))"
   ]
  },
  {
   "cell_type": "code",
   "execution_count": null,
   "metadata": {},
   "outputs": [],
   "source": [
    "three[three['fifftee_times']>three['cmp']].sort_values(by=['cmp'],inplace=True)"
   ]
  },
  {
   "cell_type": "code",
   "execution_count": null,
   "metadata": {},
   "outputs": [],
   "source": [
    "three[three['fifftee_times']>three['cmp']].sort_values(by=['cmp'])"
   ]
  },
  {
   "cell_type": "code",
   "execution_count": 104,
   "metadata": {},
   "outputs": [],
   "source": [
    "# import requests\n",
    "# from bs4 import BeautifulSoup\n",
    "\n",
    "# links = []\n",
    "# url = \"https://www.moneycontrol.com/stocks/marketstats/highlows/index.php\"\n",
    "\n",
    "# payload = {}\n",
    "# headers = {\n",
    "#   'Cookie': 'PHPSESSID=s5ml7lgj149orlsq9pas210ac3'\n",
    "# }\n",
    "\n",
    "# response = requests.request(\"GET\", url, headers=headers, data=payload)\n",
    "\n",
    "# # Parse the HTML content\n",
    "# soup = BeautifulSoup(response.text, 'html.parser')\n",
    "\n",
    "\n",
    "# # Find the div with class \"FL stat_lft columnst\"\n",
    "# target_div = soup.find(\"div\", class_=\"FL stat_lft columnst\")\n",
    "\n",
    "# if target_div:\n",
    "#     hrefs = [a['href'] for a in target_div.find_all('a', href=True)]\n",
    "#     for link in hrefs:\n",
    "#         links.append(link)\n",
    "# else:\n",
    "#     print(\"Target div not found.\")\n",
    "    \n",
    "    \n",
    "# stocks_name = []\n",
    "# base_url = 'https://www.moneycontrol.com'\n",
    "# for link in links:\n",
    "#     link = base_url + link\n",
    "#     link = link.replace('week-high','week-low')\n",
    "#     response = requests.request(\"GET\", link, headers=headers, data=payload)\n",
    "#     soup = BeautifulSoup(response.text, 'html.parser')\n",
    "#     target_div = soup.find_all(\"span\", class_=\"gld13 disin\")\n",
    "    \n",
    "#     for div in target_div:\n",
    "#         text = div.get_text(strip=True)\n",
    "#         a_tag = div.find(\"a\")\n",
    "#         href = a_tag['href'] if a_tag and 'href' in a_tag.attrs else 'N/A'\n",
    "#         stocks_name.append(text)\n",
    "    \n"
   ]
  }
 ],
 "metadata": {
  "kernelspec": {
   "display_name": "Python 3",
   "language": "python",
   "name": "python3"
  },
  "language_info": {
   "codemirror_mode": {
    "name": "ipython",
    "version": 3
   },
   "file_extension": ".py",
   "mimetype": "text/x-python",
   "name": "python",
   "nbconvert_exporter": "python",
   "pygments_lexer": "ipython3",
   "version": "3.9.6"
  }
 },
 "nbformat": 4,
 "nbformat_minor": 2
}
