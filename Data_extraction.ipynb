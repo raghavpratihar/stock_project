{
 "cells": [
  {
   "cell_type": "code",
   "execution_count": 5,
   "metadata": {},
   "outputs": [],
   "source": [
    "import pandas as pd\n",
    "import requests\n",
    "import json\n",
    "from tqdm import tqdm\n",
    "import time\n",
    "from requests_html import HTMLSession\n",
    "import os\n",
    "\n",
    "\n",
    "from selenium import webdriver\n",
    "from selenium.webdriver.common.by import By\n",
    "from webdriver_manager.chrome import ChromeDriverManager\n",
    "from selenium.webdriver.chrome.options import Options\n",
    "from selenium_stealth import stealth\n",
    "# import undetected_chromedriver as uc\n",
    "from bs4 import BeautifulSoup\n",
    "from enhanced_eps_extraction import extract_eps_with_requests_html_chunked \n",
    "\n",
    "\n",
    "\n",
    "chrome_options = Options()\n",
    "# chrome_options.add_argument(\"--headless\")  # Enable headless mode\n",
    "chrome_options.add_argument(\"--no-sandbox\")  # Required for some environments\n",
    "chrome_options.add_argument(\"--disable-dev-shm-usage\")  # Helps in Docker environments\n",
    "\n",
    "from bs4 import BeautifulSoup\n",
    "\n",
    "driver = webdriver.Chrome(options=chrome_options)\n",
    "stealth(driver,\n",
    "        # user_agent='your-custom-user-agent',  # Set custom user agent\n",
    "        languages=[\"en-US\", \"en\"],  # Set languages\n",
    "        vendor=\"Mozilla\",  # Set vendor\n",
    "        platform=\"Win32\",  # Set platform\n",
    "        webgl_vendor=\"Mozilla\",  # Set WebGL vendor\n",
    "        renderer=\"Mozilla\",  # Set WebGL renderer\n",
    "        fix_hairline=True)  # Fix hairline issue in headless mode\n",
    "driver.get('https://www.nseindia.com/market-data/52-week-low-equity-market')\n",
    "cookies = driver.get_cookies()\n",
    "time.sleep(2)\n",
    "\n",
    "\n",
    "cookie = \"\"\n",
    "for item in driver.get_cookies():\n",
    "    cookie += item['name'] + \"=\" + item['value'] + \"; \""
   ]
  },
  {
   "cell_type": "code",
   "execution_count": 6,
   "metadata": {},
   "outputs": [],
   "source": [
    "# driver.quit()"
   ]
  },
  {
   "cell_type": "markdown",
   "metadata": {},
   "source": [
    "<h1>Indexes and stock of indexes"
   ]
  },
  {
   "cell_type": "code",
   "execution_count": 7,
   "metadata": {},
   "outputs": [],
   "source": [
    "\n",
    "\n",
    "# # get all indices\n",
    "# url = \"https://www.nseindia.com/api/allIndices\"\n",
    "\n",
    "# payload = {}\n",
    "# headers = {\n",
    "#   'accept': '*/*',\n",
    "#   'accept-language': 'en-GB,en-US;q=0.9,en;q=0.8',\n",
    "#   'priority': 'u=1, i',\n",
    "  \n",
    "#   'referer': 'https://www.nseindia.com/market-data/live-market-indices',\n",
    "#   'sec-ch-ua': '\"Not)A;Brand\";v=\"8\", \"Chromium\";v=\"138\", \"Google Chrome\";v=\"138\"',\n",
    "#   'sec-ch-ua-mobile': '?0',\n",
    "#   'sec-ch-ua-platform': '\"macOS\"',\n",
    "#   'sec-fetch-dest': 'empty',\n",
    "#   'sec-fetch-mode': 'cors',\n",
    "#   'sec-fetch-site': 'same-origin',\n",
    "#   'user-agent': 'Mozilla/5.0 (Macintosh; Intel Mac OS X 10_15_7) AppleWebKit/537.36 (KHTML, like Gecko) Chrome/138.0.0.0 Safari/537.36',\n",
    "#   'Cookie': cookie\n",
    "# }\n",
    "\n",
    "# response = requests.request(\"GET\", url, headers=headers, data=payload)\n",
    "# indices = pd.DataFrame(json.loads(response.text)['data'])\n",
    "# index = indices['index'].tolist()\n",
    "# index = [index.replace(\" \", \"%20\") for index in index]\n",
    "\n"
   ]
  },
  {
   "cell_type": "code",
   "execution_count": 8,
   "metadata": {},
   "outputs": [],
   "source": [
    "# total_data = pd.DataFrame()\n",
    "# # get indices data\n",
    "# for indx in tqdm(index):\n",
    "#   url = f\"https://www.nseindia.com/api/equity-stockIndices?index={indx}\"\n",
    "\n",
    "#   payload = {}\n",
    "#   headers = {\n",
    "#     'accept': '*/*',\n",
    "#     'accept-language': 'en-GB,en-US;q=0.9,en;q=0.8',\n",
    "#     'priority': 'u=1, i',\n",
    "#     'referer': 'https://www.nseindia.com/market-data/live-equity-market?symbol=NIFTY%2050',\n",
    "#     'sec-ch-ua': '\"Not)A;Brand\";v=\"8\", \"Chromium\";v=\"138\", \"Google Chrome\";v=\"138\"',\n",
    "#     'sec-ch-ua-mobile': '?0',\n",
    "#     'sec-ch-ua-platform': '\"macOS\"',\n",
    "#     'sec-fetch-dest': 'empty',\n",
    "#     'sec-fetch-mode': 'cors',\n",
    "#     'sec-fetch-site': 'same-origin',\n",
    "#     'user-agent': 'Mozilla/5.0 (Macintosh; Intel Mac OS X 10_15_7) AppleWebKit/537.36 (KHTML, like Gecko) Chrome/138.0.0.0 Safari/537.36',\n",
    "#     'Cookie': cookie\n",
    "#   }\n",
    "\n",
    "#   response = requests.request(\"GET\", url, headers=headers, data=payload)\n",
    "#   if json.loads(response.text).get('data'):\n",
    "#     total_data = pd.concat([total_data, pd.DataFrame(json.loads(response.text)['data'])[['symbol','identifier']]] , ignore_index=True)\n",
    "\n"
   ]
  },
  {
   "cell_type": "code",
   "execution_count": null,
   "metadata": {},
   "outputs": [
    {
     "name": "stderr",
     "output_type": "stream",
     "text": [
      "INFO:__main__:Initialized SeleniumUtils with download_dir: /Users/admin/Desktop/stock_project\n",
      "INFO:__main__:Found Chrome at: /Applications/Google Chrome.app/Contents/MacOS/Google Chrome\n",
      "INFO:WDM:====== WebDriver manager ======\n",
      "INFO:WDM:Get LATEST chromedriver version for google-chrome\n",
      "INFO:WDM:Get LATEST chromedriver version for google-chrome\n",
      "INFO:WDM:Driver [/Users/admin/.wdm/drivers/chromedriver/mac64/138.0.7204.35/chromedriver-mac-arm64/chromedriver] found in cache\n",
      "INFO:__main__:Initialized SeleniumUtils with download_dir: /Users/admin/Desktop/stock_project\n",
      "INFO:__main__:Found Chrome at: /Applications/Google Chrome.app/Contents/MacOS/Google Chrome\n",
      "INFO:__main__:Using Chrome binary: /Applications/Google Chrome.app/Contents/MacOS/Google Chrome\n",
      "INFO:WDM:====== WebDriver manager ======\n",
      "INFO:WDM:Get LATEST chromedriver version for google-chrome\n"
     ]
    },
    {
     "name": "stdout",
     "output_type": "stream",
     "text": [
      "=== Chrome Installation Diagnosis ===\n",
      "Operating System: Darwin\n",
      "Architecture: 64bit\n",
      "Chrome Found: True\n",
      "Chrome Path: /Applications/Google Chrome.app/Contents/MacOS/Google Chrome\n",
      "ChromeDriver Available: True\n",
      "ChromeDriver Path: /Users/admin/.wdm/drivers/chromedriver/mac64/138.0.7204.35/chromedriver-mac-arm64/chromedriver\n"
     ]
    },
    {
     "name": "stderr",
     "output_type": "stream",
     "text": [
      "INFO:WDM:Get LATEST chromedriver version for google-chrome\n",
      "INFO:WDM:Driver [/Users/admin/.wdm/drivers/chromedriver/mac64/138.0.7204.35/chromedriver-mac-arm64/chromedriver] found in cache\n",
      "INFO:__main__:Chrome driver created with automatic ChromeDriver management\n",
      "INFO:__main__:Chrome driver created successfully\n",
      "INFO:__main__:Successfully obtained 8 cookies from https://www.nseindia.com/\n"
     ]
    },
    {
     "name": "stdout",
     "output_type": "stream",
     "text": [
      "Got cookies: _abck=306639163E31E86030E4F1A02B97B3A6~-1~YAAQj88uF990sGOXAQAAB79RmQ6gJhdciAxDLFf1Bd7Npw8tiPFvn6gRgO...\n"
     ]
    }
   ],
   "source": [
    "with open('selenium_utils.py') as f:\n",
    "    code = f.read()\n",
    "    exec(code)\n"
   ]
  },
  {
   "cell_type": "code",
   "execution_count": 25,
   "metadata": {},
   "outputs": [],
   "source": [
    "total_data = pd.read_csv('EQUITY_L.csv',dtype=str)\n",
    "total_data.head(5)\n",
    "total_data.columns = [col.lower() for col in total_data.columns]\n"
   ]
  },
  {
   "cell_type": "code",
   "execution_count": 26,
   "metadata": {},
   "outputs": [],
   "source": [
    "# filter index names from stocks\n",
    "symbol = list(set(total_data['symbol'].tolist()))\n"
   ]
  },
  {
   "cell_type": "markdown",
   "metadata": {},
   "source": [
    "<h1> Multithreading Annual reports\n"
   ]
  },
  {
   "cell_type": "code",
   "execution_count": null,
   "metadata": {},
   "outputs": [],
   "source": [
    "import concurrent.futures\n",
    "import threading\n",
    "\n",
    "# Thread-local storage for DataFrame\n",
    "thread_local = threading.local()\n",
    "\n",
    "def get_symbol_data(sym):\n",
    "    \"\"\"Function to fetch data for a single symbol\"\"\"\n",
    "    url = f\"https://www.nseindia.com/api/corporates-financial-results?index=equities&symbol={sym}&period=Annual\"\n",
    "    \n",
    "    payload = {}\n",
    "    headers = {\n",
    "        'accept': '*/*',\n",
    "        'accept-language': 'en-GB,en-US;q=0.9,en;q=0.8',\n",
    "        'priority': 'u=1, i',\n",
    "        'referer': f'https://www.nseindia.com/companies-listing/corporate-filings-financial-results?symbol={sym}&tabIndex=equity',\n",
    "        'sec-ch-ua': '\"Not)A;Brand\";v=\"8\", \"Chromium\";v=\"138\", \"Google Chrome\";v=\"138\"',\n",
    "        'sec-ch-ua-mobile': '?0',\n",
    "        'sec-ch-ua-platform': '\"macOS\"',\n",
    "        'sec-fetch-dest': 'empty',\n",
    "        'sec-fetch-mode': 'cors',\n",
    "        'sec-fetch-site': 'same-origin',\n",
    "        'user-agent': 'Mozilla/5.0 (Macintosh; Intel Mac OS X 10_15_7) AppleWebKit/537.36 (KHTML, like Gecko) Chrome/138.0.0.0 Safari/537.36',\n",
    "        'Cookie': cookie\n",
    "    }\n",
    "    \n",
    "    try:\n",
    "        response = requests.request(\"GET\", url, headers=headers, data=payload)\n",
    "        annual_data_df = pd.DataFrame(json.loads(response.text))\n",
    "        return annual_data_df\n",
    "    except Exception as e:\n",
    "        print(f\"Error fetching data for {sym}: {e}\")\n",
    "        return pd.DataFrame()\n",
    "\n",
    "# Use ThreadPoolExecutor for parallel processing\n",
    "reports = pd.DataFrame()\n",
    "max_workers = 5  # Adjust based on your system and API limits\n",
    "\n",
    "with concurrent.futures.ThreadPoolExecutor(max_workers=max_workers) as executor:\n",
    "    # Submit all tasks\n",
    "    future_to_symbol = {executor.submit(get_symbol_data, sym): sym for sym in symbol}\n",
    "    \n",
    "    # Collect results with progress bar\n",
    "    for future in tqdm(concurrent.futures.as_completed(future_to_symbol), total=len(symbol)):\n",
    "        symbol_name = future_to_symbol[future]\n",
    "        try:\n",
    "            result_df = future.result()\n",
    "            if not result_df.empty:\n",
    "                reports = pd.concat([reports, result_df], ignore_index=True)\n",
    "        except Exception as e:\n",
    "            print(f\"Error processing {symbol_name}: {e}\")\n"
   ]
  },
  {
   "cell_type": "code",
   "execution_count": 28,
   "metadata": {},
   "outputs": [],
   "source": [
    "driver.quit()"
   ]
  },
  {
   "cell_type": "code",
   "execution_count": null,
   "metadata": {},
   "outputs": [],
   "source": [
    "len(set(total_data['symbol'].unique().tolist()) - set(reports['symbol'].unique().tolist()))"
   ]
  },
  {
   "cell_type": "code",
   "execution_count": 29,
   "metadata": {},
   "outputs": [],
   "source": [
    "reports.to_excel('reports.xlsx', index=False)"
   ]
  },
  {
   "cell_type": "code",
   "execution_count": null,
   "metadata": {},
   "outputs": [],
   "source": [
    "reports"
   ]
  },
  {
   "cell_type": "code",
   "execution_count": 30,
   "metadata": {},
   "outputs": [],
   "source": [
    "# audited by external auditors\n",
    "\n",
    "audited_df = reports[reports['audited']=='Audited'].copy(deep=True)\n",
    "# cumulative means collection of all (q1+q2+q3+q4) \n",
    "\n",
    "audited_df = audited_df[audited_df['cumulative']=='Cumulative']"
   ]
  },
  {
   "cell_type": "code",
   "execution_count": 31,
   "metadata": {},
   "outputs": [],
   "source": [
    "control_df = audited_df[['symbol', 'companyName', 'fromDate', 'toDate',  'xbrl',\n",
    "        'consolidated']].copy(deep=True)\n",
    "\n",
    "control_df['fromDate'] = pd.to_datetime(control_df['fromDate'], dayfirst=True).dt.strftime('%Y-%m-%d')\n",
    "control_df['toDate'] = pd.to_datetime(control_df['toDate'], dayfirst=True).dt.strftime('%Y-%m-%d')"
   ]
  },
  {
   "cell_type": "code",
   "execution_count": null,
   "metadata": {},
   "outputs": [],
   "source": [
    "control_df.head(5)"
   ]
  },
  {
   "cell_type": "code",
   "execution_count": 33,
   "metadata": {},
   "outputs": [],
   "source": [
    "control_df = control_df[['symbol','xbrl','consolidated']]"
   ]
  },
  {
   "cell_type": "code",
   "execution_count": 34,
   "metadata": {},
   "outputs": [],
   "source": [
    "reports_cut = reports[['symbol','xbrl','consolidated']].copy(deep=True)\n",
    "grouped_df = reports_cut.groupby(['symbol', 'consolidated'])['xbrl'].agg(list).reset_index()\n",
    "\n",
    "# clearing invalid urls\n",
    "grouped_df['xbrl'] = grouped_df['xbrl'].apply(lambda x: [item for item in x if item.rsplit('/',1)[-1]!='-'])"
   ]
  },
  {
   "cell_type": "code",
   "execution_count": 35,
   "metadata": {},
   "outputs": [],
   "source": [
    "grouped_df.to_excel('grouped_df.xlsx', index=False)"
   ]
  },
  {
   "cell_type": "code",
   "execution_count": null,
   "metadata": {},
   "outputs": [],
   "source": [
    "grouped_df"
   ]
  },
  {
   "cell_type": "code",
   "execution_count": null,
   "metadata": {},
   "outputs": [],
   "source": [
    "result = extract_eps_with_requests_html_chunked(grouped_df , max_workers=5)"
   ]
  },
  {
   "cell_type": "code",
   "execution_count": 16,
   "metadata": {},
   "outputs": [],
   "source": [
    "grouped_df.to_excel('grouped_df_eps.xlsx', index=False)"
   ]
  },
  {
   "cell_type": "markdown",
   "metadata": {},
   "source": [
    "<h1>Computing the avg eps , removing None type eps(failed to extract)"
   ]
  },
  {
   "cell_type": "code",
   "execution_count": 17,
   "metadata": {},
   "outputs": [],
   "source": [
    "grouped_df['avg_eps'] = grouped_df.apply(\n",
    "    lambda x: sum(\n",
    "        [float(item) for item in x['eps'] if item is not None and isinstance(item, (int, float,str))]\n",
    "    ) / len(\n",
    "        [float(item) for item in x['eps'] if item is not None and isinstance(item, (int, float ,str))]\n",
    "    ) if len([float(item) for item in x['eps'] if item is not None and isinstance(item, (int, float ,str))]) > 0 else \"\",\n",
    "    axis=1\n",
    ")"
   ]
  },
  {
   "cell_type": "code",
   "execution_count": 18,
   "metadata": {},
   "outputs": [],
   "source": [
    "grouped_df['total_eps'] = grouped_df.apply(\n",
    "    lambda x: len([float(item) for item in x['eps'] if item is not None and isinstance(item, (int, float, str))]),\n",
    "    axis=1\n",
    ")"
   ]
  },
  {
   "cell_type": "code",
   "execution_count": 19,
   "metadata": {},
   "outputs": [],
   "source": [
    "grouped_df['3Yr_avg_eps'] = grouped_df.apply(\n",
    "    lambda x: sum(\n",
    "        [float(item) for item in x['eps'] if item is not None and isinstance(item, (int, float,str))][:3]\n",
    "    ) / 3 if len([float(item) for item in x['eps'] if item is not None and isinstance(item, (int, float,str))]) >= 3 else \"\", \n",
    "    axis=1\n",
    ")"
   ]
  },
  {
   "cell_type": "code",
   "execution_count": 20,
   "metadata": {},
   "outputs": [],
   "source": [
    "seven_and_above = grouped_df[grouped_df['total_eps']>=7].copy(deep=True)\n",
    "three = grouped_df[(grouped_df['3Yr_avg_eps']!=\"\")].copy(deep=True)\n",
    "three = three[(three['3Yr_avg_eps']>0)].copy(deep=True)\n"
   ]
  },
  {
   "cell_type": "code",
   "execution_count": 21,
   "metadata": {},
   "outputs": [],
   "source": [
    "three['fifftee_times']  = \"\"\n",
    "three['fifftee_times'] = three.apply(lambda x: 15*x['3Yr_avg_eps'],axis=1)\n",
    "\n",
    "\n",
    "three.reset_index(drop=True,inplace=True)\n",
    "three['cmp'] = \"\""
   ]
  },
  {
   "cell_type": "code",
   "execution_count": 22,
   "metadata": {},
   "outputs": [],
   "source": [
    "# def get_price(symbol):\n",
    "#     url = f\"https://www.nseindia.com/api/quote-equity?symbol={symbol}\"\n",
    "\n",
    "#     payload = {}\n",
    "#     headers = {\n",
    "#     'accept': '*/*',\n",
    "#     'accept-language': 'en-GB,en-US;q=0.9,en;q=0.8',\n",
    "#     'cookie': cookie,\n",
    "#     'priority': 'u=1, i',\n",
    "#     'referer': 'https://www.nseindia.com/get-quotes/equity?symbol=RELIANCE',\n",
    "#     'sec-ch-ua': '\"Chromium\";v=\"130\", \"Google Chrome\";v=\"130\", \"Not?A_Brand\";v=\"99\"',\n",
    "#     'sec-ch-ua-mobile': '?0',\n",
    "#     'sec-ch-ua-platform': '\"macOS\"',\n",
    "#     'sec-fetch-dest': 'empty',\n",
    "#     'sec-fetch-mode': 'cors',\n",
    "#     'sec-fetch-site': 'same-origin',\n",
    "#     'user-agent': 'Mozilla/5.0 (Macintosh; Intel Mac OS X 10_15_7) AppleWebKit/537.36 (KHTML, like Gecko) Chrome/130.0.0.0 Safari/537.36'\n",
    "#     }\n",
    "\n",
    "#     response = requests.request(\"GET\", url, headers=headers, data=payload)\n",
    "\n",
    "#     return json.loads(response.text)['priceInfo']['lastPrice']\n",
    "\n",
    "\n",
    "# for i in tqdm(range(three.shape[0])):\n",
    "#     three.loc[i,'cmp'] = get_price(three.loc[i,'symbol'])\n"
   ]
  },
  {
   "cell_type": "code",
   "execution_count": null,
   "metadata": {},
   "outputs": [],
   "source": [
    "# Multithreaded version of price fetching - Copy this into your notebook cell\n",
    "\n",
    "def get_price_with_error_handling(symbol):\n",
    "    \"\"\"Get price for a symbol with error handling\"\"\"\n",
    "    try:\n",
    "        url = f\"https://www.nseindia.com/api/quote-equity?symbol={symbol}\"\n",
    "\n",
    "        payload = {}\n",
    "        headers = {\n",
    "        'accept': '*/*',\n",
    "        'accept-language': 'en-GB,en-US;q=0.9,en;q=0.8',\n",
    "        'cookie': cookie,\n",
    "        'priority': 'u=1, i',\n",
    "        'referer': 'https://www.nseindia.com/get-quotes/equity?symbol=RELIANCE',\n",
    "        'sec-ch-ua': '\"Chromium\";v=\"130\", \"Google Chrome\";v=\"130\", \"Not?A_Brand\";v=\"99\"',\n",
    "        'sec-ch-ua-mobile': '?0',\n",
    "        'sec-ch-ua-platform': '\"macOS\"',\n",
    "        'sec-fetch-dest': 'empty',\n",
    "        'sec-fetch-mode': 'cors',\n",
    "        'sec-fetch-site': 'same-origin',\n",
    "        'user-agent': 'Mozilla/5.0 (Macintosh; Intel Mac OS X 10_15_7) AppleWebKit/537.36 (KHTML, like Gecko) Chrome/130.0.0.0 Safari/537.36'\n",
    "        }\n",
    "\n",
    "        response = requests.request(\"GET\", url, headers=headers, data=payload, timeout=30)\n",
    "        return json.loads(response.text)['priceInfo']['lastPrice']\n",
    "    except Exception as e:\n",
    "        print(f\"Error fetching price for {symbol}: {e}\")\n",
    "        return None\n",
    "\n",
    "# Get list of symbols and their indices\n",
    "symbols_with_indices = [(i, symbol) for i, symbol in enumerate(three['symbol'])]\n",
    "\n",
    "# Use ThreadPoolExecutor for parallel price fetching\n",
    "max_workers = 10  # Adjust based on your system and API limits\n",
    "prices_dict = {}\n",
    "\n",
    "with concurrent.futures.ThreadPoolExecutor(max_workers=max_workers) as executor:\n",
    "    # Submit all tasks\n",
    "    future_to_index = {executor.submit(get_price_with_error_handling, symbol): (i, symbol) \n",
    "                      for i, symbol in symbols_with_indices}\n",
    "    \n",
    "    # Collect results with progress bar\n",
    "    for future in tqdm(concurrent.futures.as_completed(future_to_index), \n",
    "                      total=len(symbols_with_indices),\n",
    "                      desc=\"Fetching prices (multithreaded)\"):\n",
    "        index, symbol = future_to_index[future]\n",
    "        try:\n",
    "            price = future.result()\n",
    "            prices_dict[index] = price\n",
    "        except Exception as e:\n",
    "            print(f\"Error processing {symbol}: {e}\")\n",
    "            prices_dict[index] = None\n",
    "\n",
    "# Update the DataFrame with fetched prices\n",
    "for index, price in prices_dict.items():\n",
    "    three.loc[index, 'cmp'] = price\n",
    "\n",
    "print(f\"Completed fetching prices for {len(prices_dict)} symbols\") "
   ]
  },
  {
   "cell_type": "code",
   "execution_count": 25,
   "metadata": {},
   "outputs": [],
   "source": [
    "three['cmp'] = three['cmp'].apply(lambda x: float(x))"
   ]
  },
  {
   "cell_type": "code",
   "execution_count": null,
   "metadata": {},
   "outputs": [],
   "source": [
    "three[three['fifftee_times']>three['cmp']].sort_values(by=['cmp'],inplace=True)"
   ]
  },
  {
   "cell_type": "code",
   "execution_count": null,
   "metadata": {},
   "outputs": [],
   "source": [
    "three[three['fifftee_times']>three['cmp']].sort_values(by=['cmp'])"
   ]
  },
  {
   "cell_type": "code",
   "execution_count": null,
   "metadata": {},
   "outputs": [],
   "source": []
  }
 ],
 "metadata": {
  "kernelspec": {
   "display_name": "env",
   "language": "python",
   "name": "python3"
  },
  "language_info": {
   "codemirror_mode": {
    "name": "ipython",
    "version": 3
   },
   "file_extension": ".py",
   "mimetype": "text/x-python",
   "name": "python",
   "nbconvert_exporter": "python",
   "pygments_lexer": "ipython3",
   "version": "3.13.5"
  }
 },
 "nbformat": 4,
 "nbformat_minor": 2
}
